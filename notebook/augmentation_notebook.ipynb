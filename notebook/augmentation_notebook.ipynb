{
 "cells": [
  {
   "cell_type": "code",
   "execution_count": 1,
   "metadata": {},
   "outputs": [
    {
     "name": "stdout",
     "output_type": "stream",
     "text": [
      "/Users/shin/MyDir/MyGit/BrainMR_MCI\n"
     ]
    }
   ],
   "source": [
    "#Root 경로로 이동\n",
    "%cd .."
   ]
  },
  {
   "cell_type": "code",
   "execution_count": 9,
   "metadata": {},
   "outputs": [],
   "source": [
    "#참고사이트 https://bo-10000.tistory.com/134\n",
    "import torchio as tio\n",
    "from torch.utils.data import DataLoader,ConcatDataset\n",
    "import dataloader\n",
    "import utils\n",
    "import pandas as pd"
   ]
  },
  {
   "cell_type": "code",
   "execution_count": 4,
   "metadata": {},
   "outputs": [],
   "source": [
    "config = utils.load_config()\n",
    "df_dataset = pd.read_csv(config['PATH_DATASET_CSV'])\n",
    "X_train,X_test,y_train,y_test = dataloader.dataset_split(df_dataset)\n",
    "#y_train = y_train.str.replace('MCI','1').replace('CN','0').replace('AD','2')\n",
    "#y_test = y_test.str.replace('MCI','1').replace('CN','0').replace('AD','2')"
   ]
  },
  {
   "cell_type": "code",
   "execution_count": 10,
   "metadata": {},
   "outputs": [],
   "source": [
    "traindata=dataloader.MRIDataset(X_train,y_train)\n",
    "transform = tio.RandomAffine(degrees=(0,0,90)) #이미지 좌우로 랜덤 생성\n",
    "aug_traindata=dataloader.MRIDataset(X_train,y_train,transform)"
   ]
  },
  {
   "cell_type": "code",
   "execution_count": 11,
   "metadata": {},
   "outputs": [],
   "source": [
    "train_dev_sets = ConcatDataset([traindata, aug_traindata])"
   ]
  },
  {
   "cell_type": "code",
   "execution_count": 12,
   "metadata": {},
   "outputs": [
    {
     "data": {
      "text/plain": [
       "1584"
      ]
     },
     "execution_count": 12,
     "metadata": {},
     "output_type": "execute_result"
    }
   ],
   "source": [
    "len(train_dev_sets)"
   ]
  },
  {
   "cell_type": "code",
   "execution_count": null,
   "metadata": {},
   "outputs": [],
   "source": [
    "traindata=dataloader.MRIDataset(X_train,y_train)\n",
    "transform = tio.RandomAffine(degrees=(0,0,90)) #이미지 좌우로 랜덤 생성\n",
    "aug_traindata=dataloader.MRIDataset(X_train,y_train,transform)\n",
    "\n",
    "testdata=dataloader.MRIDataset(X_test,y_test)\n",
    "\n",
    "train_dataloader = DataLoader(traindata, batch_size=1, shuffle=False)\n",
    "test_dataloader  = DataLoader(testdata, batch_size=1, shuffle=False)"
   ]
  },
  {
   "cell_type": "code",
   "execution_count": null,
   "metadata": {},
   "outputs": [],
   "source": [
    "transform = tio.RandomAffine(degrees=(0,0,90)) #이미지 좌우로 랜덤 생성\n"
   ]
  },
  {
   "cell_type": "code",
   "execution_count": null,
   "metadata": {},
   "outputs": [],
   "source": [
    "image,label=aug_traindata.__getitem__(0)"
   ]
  },
  {
   "cell_type": "code",
   "execution_count": null,
   "metadata": {},
   "outputs": [],
   "source": [
    "img_transform = transform(image)"
   ]
  },
  {
   "cell_type": "code",
   "execution_count": null,
   "metadata": {},
   "outputs": [],
   "source": [
    "utils.stack_plot(image[0,:,:,:],4,4,0,5)"
   ]
  }
 ],
 "metadata": {
  "kernelspec": {
   "display_name": "Python 3.10.8 ('pyenv': venv)",
   "language": "python",
   "name": "python3"
  },
  "language_info": {
   "codemirror_mode": {
    "name": "ipython",
    "version": 3
   },
   "file_extension": ".py",
   "mimetype": "text/x-python",
   "name": "python",
   "nbconvert_exporter": "python",
   "pygments_lexer": "ipython3",
   "version": "3.10.8"
  },
  "orig_nbformat": 4,
  "vscode": {
   "interpreter": {
    "hash": "4e217ad6c666bc0ad8823b6ffa25855fd92bedfabecd537704e354d60395d263"
   }
  }
 },
 "nbformat": 4,
 "nbformat_minor": 2
}
