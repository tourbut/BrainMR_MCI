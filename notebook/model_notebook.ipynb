{
 "cells": [
  {
   "cell_type": "code",
   "execution_count": 3,
   "metadata": {},
   "outputs": [
    {
     "name": "stdout",
     "output_type": "stream",
     "text": [
      "d:\\MyGit\\BrainMR_MCI\n"
     ]
    }
   ],
   "source": [
    "#Root 경로로 이동\n",
    "%cd ..\n"
   ]
  },
  {
   "cell_type": "code",
   "execution_count": 4,
   "metadata": {},
   "outputs": [],
   "source": [
    "from model import generate_model\n",
    "import os\n",
    "import csv\n",
    "import torch\n",
    "import torch.nn as nn\n",
    "import torch.optim as optim\n",
    "#from loss import ConRegGroupLoss\n",
    "import dataloader\n",
    "import utils\n",
    "import pandas as pd\n",
    "from torch.utils.data import DataLoader\n",
    "from models import resnet\n",
    "from model import generate_model\n"
   ]
  },
  {
   "cell_type": "code",
   "execution_count": 5,
   "metadata": {},
   "outputs": [],
   "source": [
    "config = utils.load_config()\n",
    "df_dataset = pd.read_csv(config['PATH_DATASET_CSV'])\n",
    "X_train,X_test,y_train,y_test = dataloader.dataset_split(df_dataset)\n",
    "#y_train = y_train.str.replace('MCI','1').replace('CN','0').replace('AD','2')\n",
    "#y_test = y_test.str.replace('MCI','1').replace('CN','0').replace('AD','2')"
   ]
  },
  {
   "cell_type": "code",
   "execution_count": 6,
   "metadata": {},
   "outputs": [],
   "source": [
    "traindata=dataloader.MRIDataset(X_train,y_train)\n",
    "testdata=dataloader.MRIDataset(X_test,y_test)\n",
    "\n",
    "train_dataloader = DataLoader(traindata, batch_size=4, shuffle=False)\n",
    "test_dataloader  = DataLoader(testdata, batch_size=1, shuffle=False)"
   ]
  },
  {
   "cell_type": "code",
   "execution_count": 7,
   "metadata": {},
   "outputs": [
    {
     "name": "stdout",
     "output_type": "stream",
     "text": [
      "X_train :  792\n",
      "X_test :  199\n"
     ]
    }
   ],
   "source": [
    "print('X_train : ',len(X_train))\n",
    "print('X_test : ',len(X_test))"
   ]
  },
  {
   "cell_type": "code",
   "execution_count": 8,
   "metadata": {},
   "outputs": [
    {
     "name": "stderr",
     "output_type": "stream",
     "text": [
      "d:\\MyGit\\BrainMR_MCI\\models\\resnet.py:143: UserWarning: nn.init.kaiming_normal is now deprecated in favor of nn.init.kaiming_normal_.\n",
      "  m.weight = nn.init.kaiming_normal(m.weight, mode='fan_out')\n"
     ]
    }
   ],
   "source": [
    "model, _ = generate_model(model_name='resnet',model_depth = 50,n_classes=3,resnet_shortcut='B')"
   ]
  },
  {
   "cell_type": "code",
   "execution_count": 9,
   "metadata": {},
   "outputs": [],
   "source": [
    "device = torch.device('cpu')\n",
    "\n",
    "#model, parameters = generate_model(opt)\n",
    "model.to(device)\n",
    "optimizer = optim.Adam(model.parameters(), lr= 0.0001, betas=(0.5, 0.999))\n",
    "criterion_clf = nn.CrossEntropyLoss().to(device)"
   ]
  },
  {
   "cell_type": "code",
   "execution_count": 10,
   "metadata": {},
   "outputs": [],
   "source": [
    "epoch = 0\n",
    "i= 0\n",
    "\n",
    "model.train(True)\n",
    "for inputs,_, labels in train_dataloader:\n",
    "    i+=1\n",
    "    inputs, labels = inputs.to(device), labels.to(device)\n",
    "    model.zero_grad()\n",
    "    clf_output = model(inputs)\n",
    "    break\n",
    "    clf_loss = criterion_clf(clf_output, labels)\n",
    "    print('loss :',clf_loss)\n",
    "    clf_loss.backward()\n",
    "    optimizer.step()\n",
    "\n"
   ]
  },
  {
   "cell_type": "code",
   "execution_count": 18,
   "metadata": {},
   "outputs": [
    {
     "data": {
      "text/plain": [
       "4"
      ]
     },
     "execution_count": 18,
     "metadata": {},
     "output_type": "execute_result"
    }
   ],
   "source": [
    "len(clf_output)"
   ]
  },
  {
   "cell_type": "code",
   "execution_count": 19,
   "metadata": {},
   "outputs": [
    {
     "name": "stdout",
     "output_type": "stream",
     "text": [
      "1\n",
      "1\n",
      "1\n",
      "1\n"
     ]
    }
   ],
   "source": [
    "for j in range(len(clf_output)):\n",
    "    print(1)\n",
    "    #print(clf_output[j].data.to(device))"
   ]
  },
  {
   "cell_type": "code",
   "execution_count": null,
   "metadata": {},
   "outputs": [],
   "source": []
  },
  {
   "cell_type": "code",
   "execution_count": 1,
   "metadata": {},
   "outputs": [
    {
     "ename": "NameError",
     "evalue": "name 'clf_output' is not defined",
     "output_type": "error",
     "traceback": [
      "\u001b[1;31m---------------------------------------------------------------------------\u001b[0m",
      "\u001b[1;31mNameError\u001b[0m                                 Traceback (most recent call last)",
      "Cell \u001b[1;32mIn [1], line 1\u001b[0m\n\u001b[1;32m----> 1\u001b[0m \u001b[43mclf_output\u001b[49m\n",
      "\u001b[1;31mNameError\u001b[0m: name 'clf_output' is not defined"
     ]
    }
   ],
   "source": [
    "clf_output"
   ]
  },
  {
   "cell_type": "code",
   "execution_count": null,
   "metadata": {},
   "outputs": [],
   "source": []
  },
  {
   "cell_type": "code",
   "execution_count": null,
   "metadata": {},
   "outputs": [],
   "source": [
    "def train_model_epoch(self):\n",
    "    self.model.train(True)\n",
    "    for inputs, labels, demors in self.train_dataloader:\n",
    "        inputs, labels, demors = inputs.cuda(), labels.cuda(), demors.cuda()\n",
    "        self.model.zero_grad()\n",
    "        loss = torch.tensor(0.0, requires_grad=True).cuda()\n",
    "        clf_output, reg_output, per_loss = self.model(inputs)\n",
    "        clf_loss = self.criterion_clf(clf_output, labels)\n",
    "        con_reg_group_loss = self.get_con_reg_group_loss.apply(reg_output, demors, self.frequency_dict, labels)\n",
    "        loss = loss + clf_loss + reg_loss + torch.mean(con_reg_group_loss) + torch.mean(per_loss)\n",
    "        loss.backward()\n",
    "        self.optimizer.step()"
   ]
  },
  {
   "cell_type": "code",
   "execution_count": null,
   "metadata": {},
   "outputs": [],
   "source": [
    "optimizer = optim.Adam(model.parameters(), lr= 0.0001, betas=(0.5, 0.999))\n",
    "\n",
    "criterion_clf = nn.CrossEntropyLoss(weight=torch.Tensor([1, 3])).to('mps')\n",
    "criterion_reg = nn.SmoothL1Loss(reduction='mean').to('mps')\n",
    "\n",
    "optimal_valid_matrix = [[0, 0], [0, 0]]\n",
    "optimal_valid_metric = 0\n",
    "optimal_epoch = 0\n",
    "\n",
    "epoch = 0\n",
    "train_epoch = 300\n",
    "\n",
    "while epoch < train_epoch:\n",
    "    self.train_model_epoch()\n",
    "\n",
    "    print('{}th epoch validation confusion matrix:'.format(self.epoch), valid_matrix)\n",
    "    print('eval_metric:', \"%.4f\" % self.eval_metric(valid_matrix), 'and mean squared error ', valid_mse)\n",
    "    self.save_checkpoint(valid_matrix, valid_mse)\n",
    "    self.epoch += 1\n"
   ]
  }
 ],
 "metadata": {
  "kernelspec": {
   "display_name": "Python 3.10.7 ('pymain': venv)",
   "language": "python",
   "name": "python3"
  },
  "language_info": {
   "codemirror_mode": {
    "name": "ipython",
    "version": 3
   },
   "file_extension": ".py",
   "mimetype": "text/x-python",
   "name": "python",
   "nbconvert_exporter": "python",
   "pygments_lexer": "ipython3",
   "version": "3.10.7"
  },
  "orig_nbformat": 4,
  "vscode": {
   "interpreter": {
    "hash": "3ed8220e6a4d179c92912ea3d00b50a7e26f85dad7a0d0d921d007db80c03c33"
   }
  }
 },
 "nbformat": 4,
 "nbformat_minor": 2
}
