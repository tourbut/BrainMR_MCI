{
 "cells": [
  {
   "cell_type": "code",
   "execution_count": 2,
   "metadata": {},
   "outputs": [],
   "source": [
    "import torch\n",
    "from torchmetrics import Accuracy"
   ]
  },
  {
   "cell_type": "code",
   "execution_count": null,
   "metadata": {},
   "outputs": [],
   "source": [
    "def accuracy(output, labels,top_k=1,device='cpu'):\n",
    "    acc = Accuracy(top_k=top_k).to(device)\n",
    "    return acc(output,labels)"
   ]
  },
  {
   "cell_type": "code",
   "execution_count": 8,
   "metadata": {},
   "outputs": [
    {
     "data": {
      "text/plain": [
       "tensor(0.3333)"
      ]
     },
     "execution_count": 8,
     "metadata": {},
     "output_type": "execute_result"
    }
   ],
   "source": [
    "target = torch.tensor([1, 1, 2])\n",
    "preds = torch.tensor([[0.1, 0.9, 0], [0.3, 0.1, 0.6], [0.2, 0.5, 0.3]])\n",
    "accuracy = Accuracy(top_k=1)\n",
    "accuracy(preds, target)"
   ]
  },
  {
   "cell_type": "code",
   "execution_count": 11,
   "metadata": {},
   "outputs": [
    {
     "data": {
      "text/plain": [
       "tensor([0.5000, 1.0000, 1.0000])"
      ]
     },
     "execution_count": 11,
     "metadata": {},
     "output_type": "execute_result"
    }
   ],
   "source": [
    "from torchmetrics.classification import MulticlassRecall\n",
    "target = torch.tensor([2, 1, 0, 0])\n",
    "preds = torch.tensor([\n",
    "[0.16, 0.26, 0.58],\n",
    "[0.22, 0.61, 0.17],\n",
    "[0.71, 0.09, 0.20],\n",
    "[0.05, 0.82, 0.13],\n",
    "])\n",
    "metric = MulticlassRecall(num_classes=3)\n",
    "metric(preds, target)\n",
    "\n",
    "metric = MulticlassRecall(num_classes=3, average=None)\n",
    "metric(preds, target)\n"
   ]
  },
  {
   "cell_type": "code",
   "execution_count": 12,
   "metadata": {},
   "outputs": [
    {
     "data": {
      "text/plain": [
       "tensor([1.0000, 0.5000, 1.0000])"
      ]
     },
     "execution_count": 12,
     "metadata": {},
     "output_type": "execute_result"
    }
   ],
   "source": [
    "from torchmetrics.classification import MulticlassPrecision\n",
    "target = torch.tensor([2, 1, 0, 0])\n",
    "preds = torch.tensor([\n",
    "  [0.16, 0.26, 0.58],\n",
    "  [0.22, 0.61, 0.17],\n",
    "  [0.71, 0.09, 0.20],\n",
    "  [0.05, 0.82, 0.13],\n",
    "])\n",
    "metric = MulticlassPrecision(num_classes=3)\n",
    "metric(preds, target)\n",
    "\n",
    "metric = MulticlassPrecision(num_classes=3, average=None)\n",
    "metric(preds, target)"
   ]
  }
 ],
 "metadata": {
  "kernelspec": {
   "display_name": "Python 3.10.8 ('pyenv': venv)",
   "language": "python",
   "name": "python3"
  },
  "language_info": {
   "codemirror_mode": {
    "name": "ipython",
    "version": 3
   },
   "file_extension": ".py",
   "mimetype": "text/x-python",
   "name": "python",
   "nbconvert_exporter": "python",
   "pygments_lexer": "ipython3",
   "version": "3.10.8"
  },
  "orig_nbformat": 4,
  "vscode": {
   "interpreter": {
    "hash": "4e217ad6c666bc0ad8823b6ffa25855fd92bedfabecd537704e354d60395d263"
   }
  }
 },
 "nbformat": 4,
 "nbformat_minor": 2
}
