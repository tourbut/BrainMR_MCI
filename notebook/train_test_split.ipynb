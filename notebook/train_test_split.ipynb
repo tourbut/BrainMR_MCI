{
 "cells": [
  {
   "cell_type": "code",
   "execution_count": 13,
   "metadata": {},
   "outputs": [],
   "source": [
    "import pandas as pd\n",
    "import numpy as np"
   ]
  },
  {
   "cell_type": "code",
   "execution_count": 14,
   "metadata": {},
   "outputs": [],
   "source": [
    "PATH_DATASET_CSV = '../Dataset/Dataset_with_path.csv'\n",
    "\n",
    "df_dataset = pd.read_csv(PATH_DATASET_CSV)"
   ]
  },
  {
   "cell_type": "code",
   "execution_count": 21,
   "metadata": {},
   "outputs": [],
   "source": [
    "df_dataset['grp'] = (df_dataset['source'].str.replace('OASIS-3','1').str.replace('ADNI','2').apply(pd.to_numeric)*1000 \n",
    "                     + df_dataset['sex'].str.replace('F','1').str.replace('M','2').apply(pd.to_numeric)*100\n",
    "                     + df_dataset['group_maxinc'].str.replace('CN','1').str.replace('MCI','2').str.replace('AD','3').apply(pd.to_numeric)*10\n",
    "                     #+ (df_dataset['age'] // 10)\n",
    "                     )"
   ]
  },
  {
   "cell_type": "code",
   "execution_count": 22,
   "metadata": {},
   "outputs": [],
   "source": [
    "from sklearn.model_selection import train_test_split\n",
    "X = df_dataset[['source','subject','MR_ID','sex','age']]\n",
    "Y = df_dataset['group_maxinc']\n",
    "grp = df_dataset['grp']\n",
    "\n",
    "X_train,X_test,y_train,y_test = train_test_split(X,Y,test_size=0.2,shuffle=True,stratify=grp,random_state=1004)\n"
   ]
  },
  {
   "cell_type": "code",
   "execution_count": 24,
   "metadata": {},
   "outputs": [
    {
     "name": "stdout",
     "output_type": "stream",
     "text": [
      "-----------------ORGIN----------------\n",
      "OASIS-3    83.182276\n",
      "ADNI       16.817724\n",
      "Name: source, dtype: float64\n",
      "--------------------------------------\n",
      "F    55.991944\n",
      "M    44.008056\n",
      "Name: sex, dtype: float64\n",
      "--------------------------------------\n",
      "CN     58.207452\n",
      "MCI    26.586103\n",
      "AD     15.206445\n",
      "Name: group_maxinc, dtype: float64\n",
      "--------------------------------------\n",
      "70    40.785498\n",
      "60    30.614300\n",
      "80    15.407855\n",
      "50    10.473313\n",
      "40     1.913394\n",
      "90     0.805639\n",
      "Name: age, dtype: float64\n"
     ]
    }
   ],
   "source": [
    "print('-----------------ORGIN----------------')\n",
    "print(df_dataset['source'].value_counts() / df_dataset['source'].count() * 100)\n",
    "print('--------------------------------------')\n",
    "print(df_dataset['sex'].value_counts() / df_dataset['sex'].count() * 100)\n",
    "print('--------------------------------------')\n",
    "print(df_dataset['group_maxinc'].value_counts() / df_dataset['group_maxinc'].count() * 100)\n",
    "print('--------------------------------------')\n",
    "print(((df_dataset['age'] // 10)*10).value_counts() / df_dataset['age'].count() * 100)"
   ]
  },
  {
   "cell_type": "code",
   "execution_count": 27,
   "metadata": {},
   "outputs": [
    {
     "name": "stdout",
     "output_type": "stream",
     "text": [
      "-----------------Train----------------\n",
      "OASIS-3    83.123426\n",
      "ADNI       16.876574\n",
      "Name: source, dtype: float64\n",
      "--------------------------------------\n",
      "F    56.04534\n",
      "M    43.95466\n",
      "Name: sex, dtype: float64\n",
      "--------------------------------------\n",
      "CN     58.186398\n",
      "MCI    26.700252\n",
      "AD     15.113350\n",
      "Name: group_maxinc, dtype: float64\n",
      "--------------------------------------\n",
      "70    42.065491\n",
      "60    30.100756\n",
      "80    14.609572\n",
      "50    10.453401\n",
      "40     2.015113\n",
      "90     0.755668\n",
      "Name: age, dtype: float64\n"
     ]
    }
   ],
   "source": [
    "print('-----------------Train----------------')\n",
    "print(X_train['source'].value_counts() / X_train['source'].count() * 100)\n",
    "print('--------------------------------------')\n",
    "print(X_train['sex'].value_counts() / X_train['sex'].count() * 100)\n",
    "print('--------------------------------------')\n",
    "print(y_train.value_counts() / y_train.count() * 100)\n",
    "print('--------------------------------------')\n",
    "print(((X_train['age'] // 10)*10).value_counts() / X_train['age'].count() * 100)"
   ]
  },
  {
   "cell_type": "code",
   "execution_count": 28,
   "metadata": {},
   "outputs": [
    {
     "name": "stdout",
     "output_type": "stream",
     "text": [
      "-----------------Test----------------\n",
      "OASIS-3    83.417085\n",
      "ADNI       16.582915\n",
      "Name: source, dtype: float64\n",
      "--------------------------------------\n",
      "F    55.778894\n",
      "M    44.221106\n",
      "Name: sex, dtype: float64\n",
      "--------------------------------------\n",
      "CN     58.291457\n",
      "MCI    26.130653\n",
      "AD     15.577889\n",
      "Name: group_maxinc, dtype: float64\n",
      "--------------------------------------\n",
      "70    35.678392\n",
      "60    32.663317\n",
      "80    18.592965\n",
      "50    10.552764\n",
      "40     1.507538\n",
      "90     1.005025\n",
      "Name: age, dtype: float64\n"
     ]
    }
   ],
   "source": [
    "print('-----------------Test----------------')\n",
    "print(X_test['source'].value_counts() / X_test['source'].count() * 100)\n",
    "print('--------------------------------------')\n",
    "print(X_test['sex'].value_counts() / X_test['sex'].count() * 100)\n",
    "print('--------------------------------------')\n",
    "print(y_test.value_counts() / y_test.count() * 100)\n",
    "print('--------------------------------------')\n",
    "print(((X_test['age'] // 10)*10).value_counts() / X_test['age'].count() * 100)"
   ]
  }
 ],
 "metadata": {
  "kernelspec": {
   "display_name": "Python 3.10.7 ('pymain': venv)",
   "language": "python",
   "name": "python3"
  },
  "language_info": {
   "codemirror_mode": {
    "name": "ipython",
    "version": 3
   },
   "file_extension": ".py",
   "mimetype": "text/x-python",
   "name": "python",
   "nbconvert_exporter": "python",
   "pygments_lexer": "ipython3",
   "version": "3.10.7"
  },
  "orig_nbformat": 4,
  "vscode": {
   "interpreter": {
    "hash": "3ed8220e6a4d179c92912ea3d00b50a7e26f85dad7a0d0d921d007db80c03c33"
   }
  }
 },
 "nbformat": 4,
 "nbformat_minor": 2
}
