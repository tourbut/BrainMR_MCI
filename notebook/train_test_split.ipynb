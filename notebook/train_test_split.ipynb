{
 "cells": [
  {
   "cell_type": "code",
   "execution_count": 18,
   "metadata": {},
   "outputs": [],
   "source": [
    "import pandas as pd\n",
    "import numpy as np"
   ]
  },
  {
   "cell_type": "code",
   "execution_count": 19,
   "metadata": {},
   "outputs": [],
   "source": [
    "PATH_DATASET_CSV = '../Dataset/Dataset_min.csv'\n",
    "\n",
    "df_dataset = pd.read_csv(PATH_DATASET_CSV)"
   ]
  },
  {
   "cell_type": "code",
   "execution_count": 20,
   "metadata": {},
   "outputs": [],
   "source": [
    "df_dataset['grp'] = (df_dataset['source'].str.replace('OASIS-3','1').str.replace('ADNI','2').apply(pd.to_numeric)*1000 \n",
    "                     + df_dataset['sex'].str.replace('F','1').str.replace('M','2').apply(pd.to_numeric)*100\n",
    "                     + df_dataset['group_maxinc'].str.replace('CN','1').str.replace('MCI','2').str.replace('AD','3').apply(pd.to_numeric)*10\n",
    "                     #+ (df_dataset['age'] // 10)\n",
    "                     )"
   ]
  },
  {
   "cell_type": "code",
   "execution_count": 24,
   "metadata": {},
   "outputs": [],
   "source": [
    "from sklearn.model_selection import train_test_split\n",
    "X = df_dataset.drop(labels='group_maxinc',axis=1)\n",
    "Y = df_dataset['group_maxinc']\n",
    "grp = df_dataset['grp']\n",
    "\n",
    "X_train,X_test,y_train,y_test = train_test_split(X,Y,test_size=0.2,shuffle=True,stratify=grp,random_state=1004)\n"
   ]
  },
  {
   "cell_type": "code",
   "execution_count": 15,
   "metadata": {},
   "outputs": [
    {
     "name": "stdout",
     "output_type": "stream",
     "text": [
      "-----------------ORGIN----------------\n",
      "OASIS-3    83.148335\n",
      "ADNI       16.851665\n",
      "Name: source, dtype: float64\n",
      "--------------------------------------\n",
      "F    56.004036\n",
      "M    43.995964\n",
      "Name: sex, dtype: float64\n",
      "--------------------------------------\n",
      "CN     58.123108\n",
      "MCI    26.639758\n",
      "AD     15.237134\n",
      "Name: group_maxinc, dtype: float64\n",
      "--------------------------------------\n",
      "70    40.766902\n",
      "60    30.575177\n",
      "80    15.438951\n",
      "50    10.494450\n",
      "40     1.917255\n",
      "90     0.807265\n",
      "Name: age, dtype: float64\n"
     ]
    }
   ],
   "source": [
    "print('-----------------ORGIN----------------')\n",
    "print(df_dataset['source'].value_counts() / df_dataset['source'].count() * 100)\n",
    "print('--------------------------------------')\n",
    "print(df_dataset['sex'].value_counts() / df_dataset['sex'].count() * 100)\n",
    "print('--------------------------------------')\n",
    "print(df_dataset['group_maxinc'].value_counts() / df_dataset['group_maxinc'].count() * 100)\n",
    "print('--------------------------------------')\n",
    "print(((df_dataset['age'] // 10)*10).value_counts() / df_dataset['age'].count() * 100)"
   ]
  },
  {
   "cell_type": "code",
   "execution_count": 16,
   "metadata": {},
   "outputs": [
    {
     "name": "stdout",
     "output_type": "stream",
     "text": [
      "-----------------Train----------------\n",
      "OASIS-3    83.207071\n",
      "ADNI       16.792929\n",
      "Name: source, dtype: float64\n",
      "--------------------------------------\n",
      "F    55.934343\n",
      "M    44.065657\n",
      "Name: sex, dtype: float64\n",
      "--------------------------------------\n",
      "CN     58.080808\n",
      "MCI    26.767677\n",
      "AD     15.151515\n",
      "Name: group_maxinc, dtype: float64\n",
      "--------------------------------------\n",
      "70    41.666667\n",
      "60    29.924242\n",
      "80    15.151515\n",
      "50    10.353535\n",
      "40     2.020202\n",
      "90     0.883838\n",
      "Name: age, dtype: float64\n"
     ]
    }
   ],
   "source": [
    "print('-----------------Train----------------')\n",
    "print(X_train['source'].value_counts() / X_train['source'].count() * 100)\n",
    "print('--------------------------------------')\n",
    "print(X_train['sex'].value_counts() / X_train['sex'].count() * 100)\n",
    "print('--------------------------------------')\n",
    "print(y_train.value_counts() / y_train.count() * 100)\n",
    "print('--------------------------------------')\n",
    "print(((X_train['age'] // 10)*10).value_counts() / X_train['age'].count() * 100)"
   ]
  },
  {
   "cell_type": "code",
   "execution_count": 17,
   "metadata": {},
   "outputs": [
    {
     "name": "stdout",
     "output_type": "stream",
     "text": [
      "-----------------Test----------------\n",
      "OASIS-3    82.914573\n",
      "ADNI       17.085427\n",
      "Name: source, dtype: float64\n",
      "--------------------------------------\n",
      "F    56.281407\n",
      "M    43.718593\n",
      "Name: sex, dtype: float64\n",
      "--------------------------------------\n",
      "CN     58.291457\n",
      "MCI    26.130653\n",
      "AD     15.577889\n",
      "Name: group_maxinc, dtype: float64\n",
      "--------------------------------------\n",
      "70    37.185930\n",
      "60    33.165829\n",
      "80    16.582915\n",
      "50    11.055276\n",
      "40     1.507538\n",
      "90     0.502513\n",
      "Name: age, dtype: float64\n"
     ]
    }
   ],
   "source": [
    "print('-----------------Test----------------')\n",
    "print(X_test['source'].value_counts() / X_test['source'].count() * 100)\n",
    "print('--------------------------------------')\n",
    "print(X_test['sex'].value_counts() / X_test['sex'].count() * 100)\n",
    "print('--------------------------------------')\n",
    "print(y_test.value_counts() / y_test.count() * 100)\n",
    "print('--------------------------------------')\n",
    "print(((X_test['age'] // 10)*10).value_counts() / X_test['age'].count() * 100)"
   ]
  }
 ],
 "metadata": {
  "kernelspec": {
   "display_name": "Python 3.9.6 ('pymain': venv)",
   "language": "python",
   "name": "python3"
  },
  "language_info": {
   "codemirror_mode": {
    "name": "ipython",
    "version": 3
   },
   "file_extension": ".py",
   "mimetype": "text/x-python",
   "name": "python",
   "nbconvert_exporter": "python",
   "pygments_lexer": "ipython3",
   "version": "3.9.6"
  },
  "orig_nbformat": 4,
  "vscode": {
   "interpreter": {
    "hash": "0aa3975cf43a70b86d99ca9fbdeea050ea8331950e405f4db61b5f7ef648563a"
   }
  }
 },
 "nbformat": 4,
 "nbformat_minor": 2
}
