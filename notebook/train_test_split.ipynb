{
 "cells": [
  {
   "cell_type": "code",
   "execution_count": 1,
   "metadata": {},
   "outputs": [],
   "source": [
    "import pandas as pd\n",
    "import numpy as np"
   ]
  },
  {
   "cell_type": "code",
   "execution_count": 2,
   "metadata": {},
   "outputs": [],
   "source": [
    "PATH_DATASET_CSV = '../Dataset/Dataset_min.csv'\n",
    "\n",
    "df_dataset = pd.read_csv(PATH_DATASET_CSV)"
   ]
  },
  {
   "cell_type": "code",
   "execution_count": 3,
   "metadata": {},
   "outputs": [],
   "source": [
    "df_dataset['grp'] = (df_dataset['source'].str.replace('OASIS-3','1').str.replace('ADNI','2').apply(pd.to_numeric)*1000 \n",
    "                     + df_dataset['sex'].str.replace('F','1').str.replace('M','2').apply(pd.to_numeric)*100\n",
    "                     + df_dataset['group_maxinc'].str.replace('CN','1').str.replace('MCI','2').str.replace('AD','3').apply(pd.to_numeric)*10\n",
    "                     #+ (df_dataset['age'] // 10)\n",
    "                     )"
   ]
  },
  {
   "cell_type": "code",
   "execution_count": 4,
   "metadata": {},
   "outputs": [],
   "source": [
    "from sklearn.model_selection import train_test_split\n",
    "X = df_dataset.drop(labels='group_maxinc',axis=1)\n",
    "Y = df_dataset['group_maxinc']\n",
    "grp = df_dataset['grp']\n",
    "\n",
    "X_train,X_test,y_train,y_test = train_test_split(X,Y,test_size=0.2,shuffle=True,stratify=grp,random_state=1004)\n"
   ]
  },
  {
   "cell_type": "code",
   "execution_count": 19,
   "metadata": {},
   "outputs": [
    {
     "name": "stdout",
     "output_type": "stream",
     "text": [
      "-----------------ORGIN----------------\n",
      "OASIS-3    83.0\n",
      "ADNI       17.0\n",
      "Name: source, dtype: float64\n",
      "--------------------------------------\n",
      "F    56.0\n",
      "M    44.0\n",
      "Name: sex, dtype: float64\n",
      "--------------------------------------\n",
      "CN     58.0\n",
      "MCI    27.0\n",
      "AD     15.0\n",
      "Name: group_maxinc, dtype: float64\n",
      "--------------------------------------\n",
      "70    41.0\n",
      "60    31.0\n",
      "80    15.0\n",
      "50    10.0\n",
      "40     2.0\n",
      "90     1.0\n",
      "Name: age, dtype: float64\n"
     ]
    }
   ],
   "source": [
    "print('-----------------ORGIN----------------')\n",
    "print(round(df_dataset['source'].value_counts() / df_dataset['source'].count() * 100))\n",
    "print('--------------------------------------')\n",
    "print(round(df_dataset['sex'].value_counts() / df_dataset['sex'].count() * 100))\n",
    "print('--------------------------------------')\n",
    "print(round(df_dataset['group_maxinc'].value_counts() / df_dataset['group_maxinc'].count() * 100))\n",
    "print('--------------------------------------')\n",
    "print(round(((df_dataset['age'] // 10)*10).value_counts() / df_dataset['age'].count() * 100))"
   ]
  },
  {
   "cell_type": "code",
   "execution_count": 13,
   "metadata": {},
   "outputs": [
    {
     "name": "stdout",
     "output_type": "stream",
     "text": [
      "-----------------Train----------------\n",
      "OASIS-3    83.0\n",
      "ADNI       17.0\n",
      "Name: source, dtype: float64\n",
      "--------------------------------------\n",
      "F    56.0\n",
      "M    44.0\n",
      "Name: sex, dtype: float64\n",
      "--------------------------------------\n",
      "CN     58.0\n",
      "MCI    27.0\n",
      "AD     15.0\n",
      "Name: group_maxinc, dtype: float64\n",
      "--------------------------------------\n",
      "70    42.0\n",
      "60    30.0\n",
      "80    15.0\n",
      "50    10.0\n",
      "40     2.0\n",
      "90     1.0\n",
      "Name: age, dtype: float64\n"
     ]
    }
   ],
   "source": [
    "print('-----------------Train----------------')\n",
    "print(round(X_train['source'].value_counts() / X_train['source'].count() * 100))\n",
    "print('--------------------------------------')\n",
    "print(round(X_train['sex'].value_counts() / X_train['sex'].count() * 100))\n",
    "print('--------------------------------------')\n",
    "print(round(y_train.value_counts() / y_train.count() * 100))\n",
    "print('--------------------------------------')\n",
    "print(round(((X_train['age'] // 10)*10).value_counts() / X_train['age'].count() * 100))"
   ]
  },
  {
   "cell_type": "code",
   "execution_count": 12,
   "metadata": {},
   "outputs": [
    {
     "name": "stdout",
     "output_type": "stream",
     "text": [
      "-----------------Test----------------\n",
      "OASIS-3    83.0\n",
      "ADNI       17.0\n",
      "Name: source, dtype: float64\n",
      "--------------------------------------\n",
      "F    56.0\n",
      "M    44.0\n",
      "Name: sex, dtype: float64\n",
      "--------------------------------------\n",
      "CN     58.0\n",
      "MCI    26.0\n",
      "AD     16.0\n",
      "Name: group_maxinc, dtype: float64\n",
      "--------------------------------------\n",
      "70    37.0\n",
      "60    33.0\n",
      "80    17.0\n",
      "50    11.0\n",
      "40     2.0\n",
      "90     1.0\n",
      "Name: age, dtype: float64\n"
     ]
    }
   ],
   "source": [
    "print('-----------------Test----------------')\n",
    "print(round(X_test['source'].value_counts() / X_test['source'].count() * 100))\n",
    "print('--------------------------------------')\n",
    "print(round(X_test['sex'].value_counts() / X_test['sex'].count() * 100))\n",
    "print('--------------------------------------')\n",
    "print(round(y_test.value_counts() / y_test.count() * 100))\n",
    "print('--------------------------------------')\n",
    "print(round(((X_test['age'] // 10)*10).value_counts() / X_test['age'].count() * 100))"
   ]
  }
 ],
 "metadata": {
  "kernelspec": {
   "display_name": "Python 3.10.8 ('pyenv': venv)",
   "language": "python",
   "name": "python3"
  },
  "language_info": {
   "codemirror_mode": {
    "name": "ipython",
    "version": 3
   },
   "file_extension": ".py",
   "mimetype": "text/x-python",
   "name": "python",
   "nbconvert_exporter": "python",
   "pygments_lexer": "ipython3",
   "version": "3.10.8"
  },
  "orig_nbformat": 4,
  "vscode": {
   "interpreter": {
    "hash": "4e217ad6c666bc0ad8823b6ffa25855fd92bedfabecd537704e354d60395d263"
   }
  }
 },
 "nbformat": 4,
 "nbformat_minor": 2
}
