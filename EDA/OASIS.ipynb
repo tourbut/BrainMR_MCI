{
 "cells": [
  {
   "cell_type": "code",
   "execution_count": 4,
   "metadata": {},
   "outputs": [],
   "source": [
    "#OASIS EDA\n",
    "import pandas as pd\n",
    "import matplotlib.pyplot as plt\n",
    "import os"
   ]
  },
  {
   "cell_type": "code",
   "execution_count": 5,
   "metadata": {},
   "outputs": [],
   "source": [
    "dir_path = '../Dataset/'\n",
    "file_name = 'OASISset.csv'\n",
    "OASIS_path = os.path.join(dir_path,file_name)"
   ]
  },
  {
   "cell_type": "code",
   "execution_count": 16,
   "metadata": {},
   "outputs": [],
   "source": [
    "df_oasis_org = pd.read_csv(OASIS_path)"
   ]
  },
  {
   "cell_type": "code",
   "execution_count": 19,
   "metadata": {},
   "outputs": [
    {
     "data": {
      "text/html": [
       "<div>\n",
       "<style scoped>\n",
       "    .dataframe tbody tr th:only-of-type {\n",
       "        vertical-align: middle;\n",
       "    }\n",
       "\n",
       "    .dataframe tbody tr th {\n",
       "        vertical-align: top;\n",
       "    }\n",
       "\n",
       "    .dataframe thead th {\n",
       "        text-align: right;\n",
       "    }\n",
       "</style>\n",
       "<table border=\"1\" class=\"dataframe\">\n",
       "  <thead>\n",
       "    <tr style=\"text-align: right;\">\n",
       "      <th></th>\n",
       "      <th>Label</th>\n",
       "      <th>Subject</th>\n",
       "      <th>M/F</th>\n",
       "      <th>Age</th>\n",
       "      <th>Scanner</th>\n",
       "      <th>Hand</th>\n",
       "      <th>Education</th>\n",
       "      <th>Race</th>\n",
       "    </tr>\n",
       "  </thead>\n",
       "  <tbody>\n",
       "    <tr>\n",
       "      <th>0</th>\n",
       "      <td>OAS30001_MR_d0129</td>\n",
       "      <td>OAS30001</td>\n",
       "      <td>F</td>\n",
       "      <td>65.0</td>\n",
       "      <td>3.0T</td>\n",
       "      <td>R</td>\n",
       "      <td>12.0</td>\n",
       "      <td>Caucasian</td>\n",
       "    </tr>\n",
       "    <tr>\n",
       "      <th>1</th>\n",
       "      <td>OAS30002_MR_d0371</td>\n",
       "      <td>OAS30002</td>\n",
       "      <td>M</td>\n",
       "      <td>68.0</td>\n",
       "      <td>1.5T</td>\n",
       "      <td>R</td>\n",
       "      <td>18.0</td>\n",
       "      <td>Caucasian</td>\n",
       "    </tr>\n",
       "    <tr>\n",
       "      <th>2</th>\n",
       "      <td>OAS30003_MR_d0558</td>\n",
       "      <td>OAS30003</td>\n",
       "      <td>F</td>\n",
       "      <td>60.0</td>\n",
       "      <td>3.0T</td>\n",
       "      <td>R</td>\n",
       "      <td>16.0</td>\n",
       "      <td>Caucasian</td>\n",
       "    </tr>\n",
       "    <tr>\n",
       "      <th>3</th>\n",
       "      <td>OAS30004_MR_d1101</td>\n",
       "      <td>OAS30004</td>\n",
       "      <td>F</td>\n",
       "      <td>58.0</td>\n",
       "      <td>3.0T</td>\n",
       "      <td>L</td>\n",
       "      <td>17.0</td>\n",
       "      <td>Caucasian</td>\n",
       "    </tr>\n",
       "    <tr>\n",
       "      <th>4</th>\n",
       "      <td>OAS30005_MR_d0143</td>\n",
       "      <td>OAS30005</td>\n",
       "      <td>F</td>\n",
       "      <td>48.0</td>\n",
       "      <td>1.5T</td>\n",
       "      <td>R</td>\n",
       "      <td>16.0</td>\n",
       "      <td>Asian</td>\n",
       "    </tr>\n",
       "  </tbody>\n",
       "</table>\n",
       "</div>"
      ],
      "text/plain": [
       "               Label   Subject M/F   Age Scanner Hand  Education       Race\n",
       "0  OAS30001_MR_d0129  OAS30001   F  65.0    3.0T    R       12.0  Caucasian\n",
       "1  OAS30002_MR_d0371  OAS30002   M  68.0    1.5T    R       18.0  Caucasian\n",
       "2  OAS30003_MR_d0558  OAS30003   F  60.0    3.0T    R       16.0  Caucasian\n",
       "3  OAS30004_MR_d1101  OAS30004   F  58.0    3.0T    L       17.0  Caucasian\n",
       "4  OAS30005_MR_d0143  OAS30005   F  48.0    1.5T    R       16.0      Asian"
      ]
     },
     "execution_count": 19,
     "metadata": {},
     "output_type": "execute_result"
    }
   ],
   "source": [
    "df_oasis = df_oasis_org[['Label','Subject','M/F','Age','Scanner','Hand','Education','Race']].head(5)\n",
    "df_oasis.head(5)"
   ]
  },
  {
   "cell_type": "code",
   "execution_count": null,
   "metadata": {},
   "outputs": [],
   "source": []
  }
 ],
 "metadata": {
  "kernelspec": {
   "display_name": "Python 3.9.6 ('pymain': venv)",
   "language": "python",
   "name": "python3"
  },
  "language_info": {
   "codemirror_mode": {
    "name": "ipython",
    "version": 3
   },
   "file_extension": ".py",
   "mimetype": "text/x-python",
   "name": "python",
   "nbconvert_exporter": "python",
   "pygments_lexer": "ipython3",
   "version": "3.9.6"
  },
  "orig_nbformat": 4,
  "vscode": {
   "interpreter": {
    "hash": "0aa3975cf43a70b86d99ca9fbdeea050ea8331950e405f4db61b5f7ef648563a"
   }
  }
 },
 "nbformat": 4,
 "nbformat_minor": 2
}
